{
 "cells": [
  {
   "cell_type": "code",
   "execution_count": 9,
   "metadata": {
    "colab": {
     "base_uri": "https://localhost:8080/"
    },
    "id": "X74ixFOK26UQ",
    "outputId": "f2aa8eab-3704-4d02-f48e-cd41a967658d"
   },
   "outputs": [
    {
     "name": "stdout",
     "output_type": "stream",
     "text": [
      "Note: you may need to restart the kernel to use updated packages.\n"
     ]
    }
   ],
   "source": [
    "pip install --quiet pyspark"
   ]
  },
  {
   "cell_type": "code",
   "execution_count": 99,
   "metadata": {
    "id": "zARJ-tfh3lUJ"
   },
   "outputs": [],
   "source": [
    "from pyspark.sql import SparkSession\n",
    "from pyspark.sql import functions as F\n",
    "from pyspark.sql import Window, types\n",
    "\n",
    "spark = SparkSession.builder.appName(\"Practice\").getOrCreate()"
   ]
  },
  {
   "cell_type": "code",
   "execution_count": null,
   "metadata": {},
   "outputs": [],
   "source": []
  },
  {
   "cell_type": "code",
   "execution_count": 12,
   "metadata": {},
   "outputs": [],
   "source": [
    "df = spark.read.csv('data/covid-data.csv', header=True, inferSchema=True)"
   ]
  },
  {
   "cell_type": "code",
   "execution_count": 8,
   "metadata": {},
   "outputs": [
    {
     "name": "stdout",
     "output_type": "stream",
     "text": [
      "root\n",
      " |-- iso_code: string (nullable = true)\n",
      " |-- continent: string (nullable = true)\n",
      " |-- location: string (nullable = true)\n",
      " |-- date: date (nullable = true)\n",
      " |-- total_cases: double (nullable = true)\n",
      " |-- new_cases: double (nullable = true)\n",
      " |-- new_cases_smoothed: double (nullable = true)\n",
      " |-- total_deaths: double (nullable = true)\n",
      " |-- new_deaths: double (nullable = true)\n",
      " |-- new_deaths_smoothed: double (nullable = true)\n",
      " |-- total_cases_per_million: double (nullable = true)\n",
      " |-- new_cases_per_million: double (nullable = true)\n",
      " |-- new_cases_smoothed_per_million: double (nullable = true)\n",
      " |-- total_deaths_per_million: double (nullable = true)\n",
      " |-- new_deaths_per_million: double (nullable = true)\n",
      " |-- new_deaths_smoothed_per_million: double (nullable = true)\n",
      " |-- reproduction_rate: double (nullable = true)\n",
      " |-- icu_patients: double (nullable = true)\n",
      " |-- icu_patients_per_million: double (nullable = true)\n",
      " |-- hosp_patients: double (nullable = true)\n",
      " |-- hosp_patients_per_million: double (nullable = true)\n",
      " |-- weekly_icu_admissions: double (nullable = true)\n",
      " |-- weekly_icu_admissions_per_million: double (nullable = true)\n",
      " |-- weekly_hosp_admissions: double (nullable = true)\n",
      " |-- weekly_hosp_admissions_per_million: double (nullable = true)\n",
      " |-- new_tests: double (nullable = true)\n",
      " |-- total_tests: double (nullable = true)\n",
      " |-- total_tests_per_thousand: double (nullable = true)\n",
      " |-- new_tests_per_thousand: double (nullable = true)\n",
      " |-- new_tests_smoothed: double (nullable = true)\n",
      " |-- new_tests_smoothed_per_thousand: double (nullable = true)\n",
      " |-- positive_rate: double (nullable = true)\n",
      " |-- tests_per_case: double (nullable = true)\n",
      " |-- tests_units: string (nullable = true)\n",
      " |-- total_vaccinations: double (nullable = true)\n",
      " |-- people_vaccinated: double (nullable = true)\n",
      " |-- people_fully_vaccinated: double (nullable = true)\n",
      " |-- new_vaccinations: double (nullable = true)\n",
      " |-- new_vaccinations_smoothed: double (nullable = true)\n",
      " |-- total_vaccinations_per_hundred: double (nullable = true)\n",
      " |-- people_vaccinated_per_hundred: double (nullable = true)\n",
      " |-- people_fully_vaccinated_per_hundred: double (nullable = true)\n",
      " |-- new_vaccinations_smoothed_per_million: double (nullable = true)\n",
      " |-- stringency_index: double (nullable = true)\n",
      " |-- population: double (nullable = true)\n",
      " |-- population_density: double (nullable = true)\n",
      " |-- median_age: double (nullable = true)\n",
      " |-- aged_65_older: double (nullable = true)\n",
      " |-- aged_70_older: double (nullable = true)\n",
      " |-- gdp_per_capita: double (nullable = true)\n",
      " |-- extreme_poverty: double (nullable = true)\n",
      " |-- cardiovasc_death_rate: double (nullable = true)\n",
      " |-- diabetes_prevalence: double (nullable = true)\n",
      " |-- female_smokers: double (nullable = true)\n",
      " |-- male_smokers: double (nullable = true)\n",
      " |-- handwashing_facilities: double (nullable = true)\n",
      " |-- hospital_beds_per_thousand: double (nullable = true)\n",
      " |-- life_expectancy: double (nullable = true)\n",
      " |-- human_development_index: double (nullable = true)\n",
      "\n"
     ]
    }
   ],
   "source": [
    "df.printSchema()"
   ]
  },
  {
   "cell_type": "markdown",
   "metadata": {},
   "source": [
    "."
   ]
  },
  {
   "cell_type": "markdown",
   "metadata": {},
   "source": [
    "Задание 1"
   ]
  },
  {
   "cell_type": "markdown",
   "metadata": {},
   "source": [
    "Выберите 15 стран с наибольшим процентом переболевших на 31 марта (в выходящем датасете необходимы колонки: iso_code, страна, процент переболевших)"
   ]
  },
  {
   "cell_type": "code",
   "execution_count": 108,
   "metadata": {
    "id": "t0-nniac0Env"
   },
   "outputs": [
    {
     "name": "stdout",
     "output_type": "stream",
     "text": [
      "+--------+----------+-------------------+\n",
      "|iso_code|      date|percent_of_patients|\n",
      "+--------+----------+-------------------+\n",
      "|     AND|2021-03-31|         15.5439073|\n",
      "|     MNE|2021-03-31| 14.523725399999998|\n",
      "|     CZE|2021-03-31|         14.3088484|\n",
      "|     SMR|2021-03-31|         13.9371796|\n",
      "|     SVN|2021-03-31| 10.370805800000001|\n",
      "|     LUX|2021-03-31|          9.8473424|\n",
      "|     ISR|2021-03-31|           9.625106|\n",
      "|     USA|2021-03-31|           9.203011|\n",
      "|     SRB|2021-03-31|          8.8263286|\n",
      "|     BHR|2021-03-31|          8.4888601|\n",
      "|     PAN|2021-03-31|          8.2287391|\n",
      "|     PRT|2021-03-31|          8.0586997|\n",
      "|     EST|2021-03-31|          8.0226816|\n",
      "|     SWE|2021-03-31|          7.9697443|\n",
      "|     LTU|2021-03-31|          7.9388647|\n",
      "+--------+----------+-------------------+\n",
      "\n"
     ]
    }
   ],
   "source": [
    "df_1 = df.select('iso_code', 'date', (df.total_cases_per_million / 10000).alias(\"percent_of_patients\"))\\\n",
    "    .filter(df.date == '2021-03-31')\\\n",
    "    .sort(F.col('percent_of_patients').desc())\\\n",
    "    .limit(15)\n",
    "\n",
    "df_1.show()\n",
    "df_1.write.csv(\"/content/result_1\")"
   ]
  },
  {
   "cell_type": "code",
   "execution_count": null,
   "metadata": {},
   "outputs": [],
   "source": []
  },
  {
   "cell_type": "markdown",
   "metadata": {},
   "source": [
    "."
   ]
  },
  {
   "cell_type": "markdown",
   "metadata": {},
   "source": [
    "Задание 2"
   ]
  },
  {
   "cell_type": "markdown",
   "metadata": {},
   "source": [
    "Top 10 стран с максимальным зафиксированным кол-вом новых случаев за последнюю неделю марта 2021 в отсортированном порядке по убыванию\n",
    "(в выходящем датасете необходимы колонки: число, страна, кол-во новых случаев)"
   ]
  },
  {
   "cell_type": "code",
   "execution_count": 131,
   "metadata": {},
   "outputs": [
    {
     "name": "stdout",
     "output_type": "stream",
     "text": [
      "+--------+----------+---------+\n",
      "|iso_code|      date|new_cases|\n",
      "+--------+----------+---------+\n",
      "|     AFG|2021-03-24|     15.0|\n",
      "|     AFG|2021-03-25|     34.0|\n",
      "|     AFG|2021-03-26|     28.0|\n",
      "|     AFG|2021-03-27|     36.0|\n",
      "|     AFG|2021-03-28|      4.0|\n",
      "|     AFG|2021-03-29|     28.0|\n",
      "|     AFG|2021-03-30|     62.0|\n",
      "|     AFG|2021-03-31|     70.0|\n",
      "|     ALB|2021-03-24|    448.0|\n",
      "|     ALB|2021-03-25|    472.0|\n",
      "|     ALB|2021-03-26|    449.0|\n",
      "|     ALB|2021-03-27|    425.0|\n",
      "|     ALB|2021-03-28|    493.0|\n",
      "|     ALB|2021-03-29|    285.0|\n",
      "|     ALB|2021-03-30|    304.0|\n",
      "|     ALB|2021-03-31|    434.0|\n",
      "|     DZA|2021-03-24|     89.0|\n",
      "|     DZA|2021-03-25|    105.0|\n",
      "|     DZA|2021-03-26|    114.0|\n",
      "|     DZA|2021-03-27|     93.0|\n",
      "+--------+----------+---------+\n",
      "only showing top 20 rows\n",
      "\n"
     ]
    }
   ],
   "source": [
    "df_int = df.select('iso_code', 'date', 'new_cases')\\\n",
    "    .filter((df.date >= '2021-03-25') & (df.date <= '2021-03-31'))\\\n",
    "    .filter(F.substring(df.iso_code, 1, 4) != 'OWID')\n",
    "\n",
    "df_int.show()"
   ]
  },
  {
   "cell_type": "code",
   "execution_count": 132,
   "metadata": {},
   "outputs": [
    {
     "name": "stdout",
     "output_type": "stream",
     "text": [
      "+----------+--------+---------+\n",
      "|      date|iso_code|new_cases|\n",
      "+----------+--------+---------+\n",
      "|2021-03-25|     BRA| 100158.0|\n",
      "|2021-03-24|     USA|  86960.0|\n",
      "|2021-03-31|     IND|  72330.0|\n",
      "|2021-03-24|     FRA|  65392.0|\n",
      "|2021-03-31|     TUR|  39302.0|\n",
      "|2021-03-26|     POL|  35145.0|\n",
      "|2021-03-31|     DEU|  25014.0|\n",
      "|2021-03-26|     ITA|  24076.0|\n",
      "|2021-03-25|     PER|  19206.0|\n",
      "|2021-03-26|     UKR|  18226.0|\n",
      "+----------+--------+---------+\n",
      "\n"
     ]
    }
   ],
   "source": [
    "w = Window.partitionBy('iso_code').orderBy(F.desc('new_cases'))\n",
    "df_int = df_int.withColumn('cases_rank', F.rank().over(w))\\\n",
    "    .filter(F.col('cases_rank') == 1)\n",
    "    \n",
    "df_2 = df_int.select('date', 'iso_code', 'new_cases')\\\n",
    "    .sort(F.col('new_cases').desc())\\\n",
    "    .limit(10)\n",
    "    \n",
    "df_2.show() \n",
    "df_2.write.csv(\"/content/result_2\")"
   ]
  },
  {
   "cell_type": "markdown",
   "metadata": {},
   "source": [
    "."
   ]
  },
  {
   "cell_type": "markdown",
   "metadata": {},
   "source": [
    "Задание 3"
   ]
  },
  {
   "cell_type": "markdown",
   "metadata": {},
   "source": [
    "Посчитайте изменение случаев относительно предыдущего дня в России за последнюю неделю марта 2021. (например: в россии вчера было 9150 , сегодня 8763, итог: -387) (в выходящем датасете необходимы колонки: число, кол-во новых случаев вчера, кол-во новых случаев сегодня, дельта)"
   ]
  },
  {
   "cell_type": "code",
   "execution_count": null,
   "metadata": {},
   "outputs": [],
   "source": []
  },
  {
   "cell_type": "code",
   "execution_count": 146,
   "metadata": {},
   "outputs": [
    {
     "name": "stdout",
     "output_type": "stream",
     "text": [
      "+--------+----------+---------+\n",
      "|iso_code|      date|new_cases|\n",
      "+--------+----------+---------+\n",
      "|     RUS|2021-03-23|   8369.0|\n",
      "|     RUS|2021-03-24|   8769.0|\n",
      "|     RUS|2021-03-25|   9128.0|\n",
      "|     RUS|2021-03-26|   9073.0|\n",
      "|     RUS|2021-03-27|   8783.0|\n",
      "|     RUS|2021-03-28|   8979.0|\n",
      "|     RUS|2021-03-29|   8589.0|\n",
      "|     RUS|2021-03-30|   8162.0|\n",
      "|     RUS|2021-03-31|   8156.0|\n",
      "+--------+----------+---------+\n",
      "\n"
     ]
    }
   ],
   "source": [
    "df_int3 = df.select('iso_code', 'date', 'new_cases')\\\n",
    "    .filter((df.date >= '2021-03-24') & (df.date <= '2021-03-31'))\\\n",
    "    .filter(df.iso_code == 'RUS')\\\n",
    "    .sort('date')\n",
    "\n",
    "df_int3.show()"
   ]
  },
  {
   "cell_type": "code",
   "execution_count": 151,
   "metadata": {
    "id": "8Hc6Fgx0z4WN"
   },
   "outputs": [
    {
     "name": "stdout",
     "output_type": "stream",
     "text": [
      "+----------+---------+-------+------+\n",
      "|      date|new_cases|previos| delta|\n",
      "+----------+---------+-------+------+\n",
      "|2021-03-25|   9128.0| 8769.0| 359.0|\n",
      "|2021-03-26|   9073.0| 9128.0| -55.0|\n",
      "|2021-03-27|   8783.0| 9073.0|-290.0|\n",
      "|2021-03-28|   8979.0| 8783.0| 196.0|\n",
      "|2021-03-29|   8589.0| 8979.0|-390.0|\n",
      "|2021-03-30|   8162.0| 8589.0|-427.0|\n",
      "|2021-03-31|   8156.0| 8162.0|  -6.0|\n",
      "+----------+---------+-------+------+\n",
      "\n"
     ]
    }
   ],
   "source": [
    "w2 = Window.partitionBy('iso_code').orderBy(('date'))\n",
    "df_int3 = df_int3.withColumn('previos', F.lag('new_cases').over(w2))\n",
    "    \n",
    "df_3 = df_int3.select('date', 'new_cases', 'previos', (df_int3.new_cases - df_int3.previos).alias('delta'))\\\n",
    "    .filter((df.date >= '2021-03-25') & (df.date <= '2021-03-31'))\n",
    "    \n",
    "df_3.show()\n",
    "df_3.write.csv(\"/content/result_3\")"
   ]
  }
 ],
 "metadata": {
  "colab": {
   "authorship_tag": "ABX9TyNHMq+cFz7A4Xfpp0swkgJ4",
   "include_colab_link": true,
   "provenance": []
  },
  "kernelspec": {
   "display_name": "Python 3 (ipykernel)",
   "language": "python",
   "name": "python3"
  },
  "language_info": {
   "codemirror_mode": {
    "name": "ipython",
    "version": 3
   },
   "file_extension": ".py",
   "mimetype": "text/x-python",
   "name": "python",
   "nbconvert_exporter": "python",
   "pygments_lexer": "ipython3",
   "version": "3.9.12"
  }
 },
 "nbformat": 4,
 "nbformat_minor": 4
}
